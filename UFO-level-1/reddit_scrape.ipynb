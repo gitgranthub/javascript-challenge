{
 "cells": [
  {
   "cell_type": "code",
   "execution_count": 1,
   "metadata": {},
   "outputs": [],
   "source": [
    "from splinter import Browser\n",
    "from bs4 import BeautifulSoup as bs\n",
    "import time\n",
    "import requests\n",
    "import pandas as pd\n",
    "\n",
    "def init_browser():\n",
    "    # @NOTE: Replace the path with your actual path to the chromedriver\n",
    "    executable_path = {\"executable_path\": \"/usr/local/bin/chromedriver\"}\n",
    "    return Browser(\"chrome\", **executable_path, headless=False)\n",
    "\n",
    "def scrape_info():\n",
    "\n",
    "    #run above function 'init_browser'\n",
    "    browser = init_browser()\n",
    "\n",
    "    # Scrape Reddit UFO Feed and collect the latest News\n",
    "    url = \"https://www.reddit.com/r/ufo/\"\n",
    "    browser.visit(url)\n",
    "\n",
    "    time.sleep(1)\n",
    "\n",
    "    # Scrape page into Soup\n",
    "    html = browser.html\n",
    "    soup = bs(html, \"html.parser\")\n",
    "\n",
    "    # Get the News Info Section\n",
    "    news_info = soup.find('div', class_=\"_2SdHzo12ISmrC8H86TgSCp _3wqmjmv3tb_k-PROt7qFZe \")\n",
    "    print(news_info)\n",
    "\n",
    "    # collect the latest News Title\n",
    "    news_sec1 = news_info.find('h3', class_=\"_eYtD2XCVieq6emjKBH3m\")\n",
    "    news_title = news_sec1.text\n",
    "    #print(news_title)\n",
    "\n",
    "    # Close the browser after scraping\n",
    "    browser.quit()\n",
    "\n",
    "    \n",
    "  \n",
    "    \n",
    "    ## This section is connected in the app.py\n",
    "    \n",
    "    # Store data in a dictionary\n",
    "    \n",
    "    ufo_data = {\n",
    "        \"news_title\": news_title\n",
    "    }\n",
    "\n",
    "\n",
    "    return ufo_data"
   ]
  }
 ],
 "metadata": {
  "kernelspec": {
   "display_name": "Python 3",
   "language": "python",
   "name": "python3"
  },
  "language_info": {
   "codemirror_mode": {
    "name": "ipython",
    "version": 3
   },
   "file_extension": ".py",
   "mimetype": "text/x-python",
   "name": "python",
   "nbconvert_exporter": "python",
   "pygments_lexer": "ipython3",
   "version": "3.7.6"
  }
 },
 "nbformat": 4,
 "nbformat_minor": 4
}
