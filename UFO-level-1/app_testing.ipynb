{
 "cells": [
  {
   "cell_type": "code",
   "execution_count": 1,
   "metadata": {},
   "outputs": [
    {
     "ename": "ReferenceError",
     "evalue": "data is not defined",
     "execution_count": 1,
     "output_type": "error",
     "traceback": [
      "evalmachine.<anonymous>:3",
      "var tableData = data;",
      "                ^",
      "",
      "ReferenceError: data is not defined",
      "    at evalmachine.<anonymous>:3:17",
      "    at Script.runInThisContext (vm.js:96:20)",
      "    at Object.runInThisContext (vm.js:303:38)",
      "    at run ([eval]:1054:15)",
      "    at onRunRequest ([eval]:888:18)",
      "    at onMessage ([eval]:848:13)",
      "    at process.emit (events.js:182:13)",
      "    at emit (internal/child_process.js:812:12)",
      "    at process._tickCallback (internal/process/next_tick.js:63:19)"
     ]
    }
   ],
   "source": [
    "// from data.js -g\n",
    "\n",
    "var tableData = data;\n",
    "\n",
    "// Get a reference to the table body -r\n",
    "var tbody = d3.select(\"tbody\");\n",
    "\n",
    "// // Loop Through `data` and console.log each ufo report object\n",
    "data.forEach(function(ufoReports) {\n",
    "    console.log(ufoReports);\n",
    "  });"
   ]
  },
  {
   "cell_type": "code",
   "execution_count": null,
   "metadata": {},
   "outputs": [],
   "source": [
    "// // Use d3 to update each cell's text with\n",
    "// // ufo report values (Date, City, State, Country, Shape, Duration, Comments) -a\n",
    "data.forEach(function(ufoReports) {\n",
    "  console.log(ufoReports);\n",
    "  var row = tbody.append(\"tr\");\n",
    "  Object.entries(ufoReports).forEach(function([key, value]) {\n",
    "    console.log(key, value);\n",
    "    // Append a cell to the row for each value\n",
    "    // in the ufo report object\n",
    "    var cell = row.append(\"td\");\n",
    "    cell.text(value);\n",
    "});\n",
    "});"
   ]
  },
  {
   "cell_type": "code",
   "execution_count": null,
   "metadata": {},
   "outputs": [],
   "source": [
    "// Select the button\n",
    "var button = d3.select(\"#filter-btn\");\n",
    "\n",
    "// Select the form\n",
    "var form = d3.select(\"#form\");\n",
    "\n",
    "// Create event handlers \n",
    "button.on(\"click\", runEnter);\n",
    "form.on(\"submit\",runEnter);\n",
    "\n",
    "\n",
    "// Complete the event handler function for the form -n\n",
    "function runEnter() {\n",
    "  \n",
    "\n",
    "  // Prevent the page from refreshing\n",
    "  d3.event.preventDefault();\n",
    "  \n",
    "\n",
    "  // Clear table\n",
    "  d3.selectAll(\".tb\").remove();\n",
    "  \n",
    "  \n",
    "  //tbody.html(\"\");\n",
    "  \n",
    "  // Select the input element and get the raw HTML node\n",
    "  var inputElement = d3.select(\"#datetime\");\n",
    "\n",
    "  // Get the value property of the input element\n",
    "  var inputValue = inputElement.property(\"value\");\n",
    "\n",
    "  // Log/Test filter result\n",
    "  console.log(`The date choosen is ${inputValue}`);\n",
    "\n",
    "  var filteredData = data.filter(data => data.datetime === inputValue); // -t\n",
    "  // Get a reference to the table body\n",
    "  var filteredData = data;\n",
    "\n",
    "  var tbody = d3.select(\"tbody\");\n",
    "\n",
    "  console.log(`The filtered data is: ${data}`);\n",
    "  console.log(data);\n",
    "\n",
    "  data.forEach(function(filterReports) {\n",
    "    console.log(filterReports);\n",
    "    var row = tbody.append(\"tr\");\n",
    "    Object.entries(filterReports).forEach(function([key, value]) {\n",
    "      console.log(key, value);\n",
    "      // Append a cell to the row for each value\n",
    "      // in the ufo report object\n",
    "      var cell = row.append(\"td\");\n",
    "      cell.text(value);\n",
    "    });\n",
    "  });\n",
    "};"
   ]
  }
 ],
 "metadata": {
  "kernelspec": {
   "display_name": "Javascript (Node.js)",
   "language": "javascript",
   "name": "javascript"
  },
  "language_info": {
   "file_extension": ".js",
   "mimetype": "application/javascript",
   "name": "javascript",
   "version": "10.13.0"
  }
 },
 "nbformat": 4,
 "nbformat_minor": 4
}
